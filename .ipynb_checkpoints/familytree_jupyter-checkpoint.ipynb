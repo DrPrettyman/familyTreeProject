{
 "cells": [
  {
   "cell_type": "code",
   "execution_count": 1,
   "id": "abfb56d6",
   "metadata": {},
   "outputs": [],
   "source": [
    "import pandas as pd\n",
    "import createTree"
   ]
  },
  {
   "cell_type": "code",
   "execution_count": 2,
   "id": "217b2bd0",
   "metadata": {},
   "outputs": [],
   "source": [
    "prettycrew = createTree.Family('ft_people.csv', 'ft_unions.csv')"
   ]
  },
  {
   "cell_type": "code",
   "execution_count": null,
   "id": "0f157724",
   "metadata": {},
   "outputs": [],
   "source": [
    "print(prettycrew.unions)"
   ]
  },
  {
   "cell_type": "code",
   "execution_count": 4,
   "id": "4095fb52",
   "metadata": {
    "scrolled": false
   },
   "outputs": [
    {
     "name": "stdout",
     "output_type": "stream",
     "text": [
      "     person1 person2 date_of_union                         children  code\n",
      "0     Joshua   Amber    2010-07-22                 [Ruben, Atticus]     0\n",
      "1  Elizabeth  Graham    1992-01-01  [Joshua, Amelia, Samuel, Alfie]     0\n",
      "2     Amelia  Adrian           NaT                        [Talulah]     0\n",
      "3     Adrian     NaN           NaT                        [TaylorB]     0\n"
     ]
    }
   ],
   "source": [
    "print(prettycrew.unions)"
   ]
  },
  {
   "cell_type": "code",
   "execution_count": 5,
   "id": "bbb2a650",
   "metadata": {
    "scrolled": true
   },
   "outputs": [
    {
     "name": "stdout",
     "output_type": "stream",
     "text": [
      "['Joshua', 'Amber']\n"
     ]
    }
   ],
   "source": [
    "print(prettycrew.children_dict)"
   ]
  },
  {
   "cell_type": "code",
   "execution_count": 23,
   "id": "fa651a7f",
   "metadata": {},
   "outputs": [
    {
     "name": "stdout",
     "output_type": "stream",
     "text": [
      "(0, [0, 1])\n"
     ]
    }
   ],
   "source": [
    "def find_family(person_index, children_dict, inclusive=True):\n",
    "    for i in children_dict.keys():\n",
    "        if person_index in children_dict[i]:\n",
    "            parental_union = i\n",
    "            if inclusive:\n",
    "                siblings = children_dict[i]\n",
    "            else:\n",
    "                siblings = [child for child in children_dict[i] if child != person_index]\n",
    "            break\n",
    "    return parental_union, siblings\n",
    "\n",
    "print(find_family(0, children_dict))"
   ]
  },
  {
   "cell_type": "code",
   "execution_count": 7,
   "id": "df06e1f6",
   "metadata": {},
   "outputs": [
    {
     "name": "stdout",
     "output_type": "stream",
     "text": [
      "{0: [2, 3], 1: [5, 4], 2: [8, 9]}\n"
     ]
    }
   ],
   "source": [
    "unions_dict = {}\n",
    "# For each union i\n",
    "for i in ft_unions.index:\n",
    "    # Find the indices of the children of that union\n",
    "    p1 = ft_unions.person1[i]\n",
    "    p2 = ft_unions.person2[i]\n",
    "    if len(p2) > 0:\n",
    "        p = [p1, p2]\n",
    "    else:\n",
    "        p = [p1] \n",
    "    p_indices = find_index(p)\n",
    "    unions_dict[i] = p_indices\n",
    "print(unions_dict)"
   ]
  },
  {
   "cell_type": "code",
   "execution_count": null,
   "id": "33a4d156",
   "metadata": {},
   "outputs": [],
   "source": [
    "spouse_dict = {}\n",
    "# for each person i\n",
    "for i in ft_people.index:\n",
    "    # Find any unions containing that person\n",
    "    "
   ]
  },
  {
   "cell_type": "code",
   "execution_count": 10,
   "id": "778981f3",
   "metadata": {},
   "outputs": [],
   "source": [
    "positions_dict = {}\n",
    "initial_index = 0\n",
    "initial_position = [0, 0]"
   ]
  },
  {
   "cell_type": "code",
   "execution_count": 11,
   "id": "3bbe0667",
   "metadata": {},
   "outputs": [
    {
     "name": "stdout",
     "output_type": "stream",
     "text": [
      "{0: [0, 0]}\n"
     ]
    }
   ],
   "source": [
    "i = initial_index\n",
    "p = initial_position\n",
    "\n",
    "positions_dict[i] = p\n",
    "\n",
    "print(positions_dict)"
   ]
  }
 ],
 "metadata": {
  "kernelspec": {
   "display_name": "Python 3",
   "language": "python",
   "name": "python3"
  },
  "language_info": {
   "codemirror_mode": {
    "name": "ipython",
    "version": 3
   },
   "file_extension": ".py",
   "mimetype": "text/x-python",
   "name": "python",
   "nbconvert_exporter": "python",
   "pygments_lexer": "ipython3",
   "version": "3.8.8"
  }
 },
 "nbformat": 4,
 "nbformat_minor": 5
}
