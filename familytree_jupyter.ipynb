{
 "cells": [
  {
   "cell_type": "code",
   "execution_count": 26,
   "id": "abfb56d6",
   "metadata": {},
   "outputs": [],
   "source": [
    "import pandas as pd\n",
    "import numpy as np"
   ]
  },
  {
   "cell_type": "code",
   "execution_count": null,
   "id": "c8c2e519",
   "metadata": {},
   "outputs": [],
   "source": [
    "import createTree"
   ]
  },
  {
   "cell_type": "code",
   "execution_count": 10,
   "id": "217b2bd0",
   "metadata": {},
   "outputs": [],
   "source": [
    "prettycrew = createTree.Family('ft_people.csv', 'ft_unions.csv')"
   ]
  },
  {
   "cell_type": "code",
   "execution_count": 11,
   "id": "0f157724",
   "metadata": {},
   "outputs": [
    {
     "name": "stdout",
     "output_type": "stream",
     "text": [
      "                           name date_of_birth sex       code\n",
      "0        Ruben Arthur Prettyman    2012-12-19   m      Ruben\n",
      "1       Atticus Pablo Prettyman    2015-09-19   m    Atticus\n",
      "2         Joshua John Prettyman    1990-10-03   m     Joshua\n",
      "3          Amber Isis Prettyman    1990-11-23   f      Amber\n",
      "4         Graham John Prettyman    1962-07-04   m     Graham\n",
      "5      Elizabeth Anne Prettyman    1969-08-24   f  Elizabeth\n",
      "6       Samuel Thomas Prettyman    1994-11-01   m     Samuel\n",
      "7   Alfie Bartholemew Prettyman    1997-10-25   m      Alfie\n",
      "8         Amelia Rose Prettyman    1993-07-08   f     Amelia\n",
      "9                   Adrian Bryn    1988-07-10   m     Adrian\n",
      "10           Talulah Celia Bryn    2018-11-11   f    Talulah\n",
      "11                  Taylor Bryn           NaT   m    TaylorB\n"
     ]
    }
   ],
   "source": [
    "print(prettycrew.people)"
   ]
  },
  {
   "cell_type": "code",
   "execution_count": 12,
   "id": "4095fb52",
   "metadata": {
    "scrolled": false
   },
   "outputs": [
    {
     "name": "stdout",
     "output_type": "stream",
     "text": [
      "     person1 person2 date_of_union                         children  \\\n",
      "0     Joshua   Amber    2010-07-22                 [Ruben, Atticus]   \n",
      "1  Elizabeth  Graham    1992-01-01  [Joshua, Amelia, Samuel, Alfie]   \n",
      "2     Amelia  Adrian           NaT                        [Talulah]   \n",
      "3     Adrian     NaN           NaT                        [TaylorB]   \n",
      "\n",
      "   separation             code  \n",
      "0           0   JoshuaAndAmber  \n",
      "1           0              G&E  \n",
      "2           0  AmeliaAndAdrian  \n",
      "3           0       JustAdrian  \n"
     ]
    }
   ],
   "source": [
    "print(prettycrew.unions)"
   ]
  },
  {
   "cell_type": "code",
   "execution_count": 14,
   "id": "bbb2a650",
   "metadata": {
    "scrolled": true
   },
   "outputs": [
    {
     "name": "stdout",
     "output_type": "stream",
     "text": [
      "{0: [0, 1], 1: [2, 8, 6, 7], 2: [10], 3: [11]}\n"
     ]
    }
   ],
   "source": [
    "print(prettycrew.children_dict)"
   ]
  },
  {
   "cell_type": "code",
   "execution_count": 15,
   "id": "a6c1e6dc",
   "metadata": {},
   "outputs": [
    {
     "name": "stdout",
     "output_type": "stream",
     "text": [
      "0\n",
      "1\n",
      "2\n",
      "3\n"
     ]
    }
   ],
   "source": [
    "for i in prettycrew.children_dict:\n",
    "    print(i)"
   ]
  },
  {
   "cell_type": "code",
   "execution_count": 23,
   "id": "fa651a7f",
   "metadata": {},
   "outputs": [
    {
     "name": "stdout",
     "output_type": "stream",
     "text": [
      "(0, [0, 1])\n"
     ]
    }
   ],
   "source": [
    "def find_family(person_index, children_dict, inclusive=True):\n",
    "    for i in children_dict.keys():\n",
    "        if person_index in children_dict[i]:\n",
    "            parental_union = i\n",
    "            if inclusive:\n",
    "                siblings = children_dict[i]\n",
    "            else:\n",
    "                siblings = [child for child in children_dict[i] if child != person_index]\n",
    "            break\n",
    "    return parental_union, siblings\n",
    "\n",
    "print(find_family(0, children_dict))"
   ]
  },
  {
   "cell_type": "code",
   "execution_count": 7,
   "id": "df06e1f6",
   "metadata": {},
   "outputs": [
    {
     "name": "stdout",
     "output_type": "stream",
     "text": [
      "{0: [2, 3], 1: [5, 4], 2: [8, 9]}\n"
     ]
    }
   ],
   "source": [
    "unions_dict = {}\n",
    "# For each union i\n",
    "for i in ft_unions.index:\n",
    "    # Find the indices of the children of that union\n",
    "    p1 = ft_unions.person1[i]\n",
    "    p2 = ft_unions.person2[i]\n",
    "    if len(p2) > 0:\n",
    "        p = [p1, p2]\n",
    "    else:\n",
    "        p = [p1] \n",
    "    p_indices = find_index(p)\n",
    "    unions_dict[i] = p_indices\n",
    "print(unions_dict)"
   ]
  },
  {
   "cell_type": "code",
   "execution_count": null,
   "id": "33a4d156",
   "metadata": {},
   "outputs": [],
   "source": [
    "spouse_dict = {}\n",
    "# for each person i\n",
    "for i in ft_people.index:\n",
    "    # Find any unions containing that person\n",
    "    "
   ]
  },
  {
   "cell_type": "code",
   "execution_count": 10,
   "id": "778981f3",
   "metadata": {},
   "outputs": [],
   "source": [
    "positions_dict = {}\n",
    "initial_index = 0\n",
    "initial_position = [0, 0]"
   ]
  },
  {
   "cell_type": "code",
   "execution_count": 49,
   "id": "3bbe0667",
   "metadata": {},
   "outputs": [
    {
     "name": "stdout",
     "output_type": "stream",
     "text": [
      "     name  age              kids\n",
      "0  Joshua   30  [Ruben, Atticus]\n",
      "1  Amelia   28         [Talulah]\n",
      "2  Samuel   26                []\n",
      "[0, 1, 2]\n"
     ]
    }
   ],
   "source": [
    "df = pd.DataFrame([['Joshua', 30, 'Ruben, Atticus'], \n",
    "                   ['Amelia', 28, 'Talulah'],\n",
    "                   ['Samuel', 26, '']], columns=['name', 'age', 'kids'])\n",
    "df['kids'] = df['kids'].apply(lambda s: s.split(', '))\n",
    "print(df)\n",
    "print([i for i in df.index])"
   ]
  },
  {
   "cell_type": "code",
   "execution_count": 41,
   "id": "a53f06b2",
   "metadata": {},
   "outputs": [
    {
     "name": "stdout",
     "output_type": "stream",
     "text": [
      "[10, 9, 9, 8]\n",
      "[10, 9, 8]\n",
      "[10, 9, 8]\n",
      "[8, 9, 10]\n"
     ]
    }
   ],
   "source": [
    "l = [10, 9, 9, 8]\n",
    "\n",
    "n = []\n",
    "for i in l: \n",
    "    if i not in n: \n",
    "        n.append(i)\n",
    "print(l)\n",
    "print(n)\n",
    "\n",
    "m = [l[i] for i in range(len(l)) if l[i] not in l[:i]]\n",
    "print(m)\n",
    "\n",
    "m.reverse()\n",
    "print(m)"
   ]
  },
  {
   "cell_type": "code",
   "execution_count": 38,
   "id": "b632264e",
   "metadata": {},
   "outputs": [
    {
     "name": "stdout",
     "output_type": "stream",
     "text": [
      "{1: 6, 2: 12, 3: 7}\n"
     ]
    }
   ],
   "source": [
    "d = {1: 7, 2: 12, 3: 8}\n",
    "for k in d.keys():\n",
    "    if d[k] < 10:\n",
    "        d[k] -= 1\n",
    "print(d)"
   ]
  },
  {
   "cell_type": "code",
   "execution_count": 43,
   "id": "da92b098",
   "metadata": {},
   "outputs": [
    {
     "name": "stdout",
     "output_type": "stream",
     "text": [
      "0\n",
      "0\n",
      "0\n",
      "1\n",
      "0\n"
     ]
    }
   ],
   "source": [
    "f = lambda s: s if s == 1 else 0\n",
    "print(f([8, 9, 10, 'hello']))\n",
    "print(f(''))\n",
    "print(f(0))\n",
    "print(f(1))\n",
    "print(f(np.nan))"
   ]
  }
 ],
 "metadata": {
  "kernelspec": {
   "display_name": "Python 3",
   "language": "python",
   "name": "python3"
  },
  "language_info": {
   "codemirror_mode": {
    "name": "ipython",
    "version": 3
   },
   "file_extension": ".py",
   "mimetype": "text/x-python",
   "name": "python",
   "nbconvert_exporter": "python",
   "pygments_lexer": "ipython3",
   "version": "3.8.8"
  }
 },
 "nbformat": 4,
 "nbformat_minor": 5
}
